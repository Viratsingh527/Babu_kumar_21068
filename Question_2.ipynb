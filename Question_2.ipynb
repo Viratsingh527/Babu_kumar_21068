{
  "nbformat": 4,
  "nbformat_minor": 0,
  "metadata": {
    "colab": {
      "provenance": []
    },
    "kernelspec": {
      "name": "python3",
      "display_name": "Python 3"
    },
    "language_info": {
      "name": "python"
    }
  },
  "cells": [
    {
      "cell_type": "code",
      "execution_count": null,
      "metadata": {
        "colab": {
          "base_uri": "https://localhost:8080/"
        },
        "id": "b8jGQmm_XcTP",
        "outputId": "3e6e3831-415b-40be-cefe-1c419b966c1c"
      },
      "outputs": [
        {
          "output_type": "stream",
          "name": "stdout",
          "text": [
            "Downloading http://yann.lecun.com/exdb/mnist/train-images-idx3-ubyte.gz\n",
            "Downloading http://yann.lecun.com/exdb/mnist/train-images-idx3-ubyte.gz to ./data/MNIST/raw/train-images-idx3-ubyte.gz\n"
          ]
        },
        {
          "output_type": "stream",
          "name": "stderr",
          "text": [
            "100%|██████████| 9912422/9912422 [00:00<00:00, 109749122.27it/s]\n"
          ]
        },
        {
          "output_type": "stream",
          "name": "stdout",
          "text": [
            "Extracting ./data/MNIST/raw/train-images-idx3-ubyte.gz to ./data/MNIST/raw\n",
            "\n",
            "Downloading http://yann.lecun.com/exdb/mnist/train-labels-idx1-ubyte.gz\n",
            "Downloading http://yann.lecun.com/exdb/mnist/train-labels-idx1-ubyte.gz to ./data/MNIST/raw/train-labels-idx1-ubyte.gz\n"
          ]
        },
        {
          "output_type": "stream",
          "name": "stderr",
          "text": [
            "100%|██████████| 28881/28881 [00:00<00:00, 81299123.37it/s]\n"
          ]
        },
        {
          "output_type": "stream",
          "name": "stdout",
          "text": [
            "Extracting ./data/MNIST/raw/train-labels-idx1-ubyte.gz to ./data/MNIST/raw\n",
            "\n",
            "Downloading http://yann.lecun.com/exdb/mnist/t10k-images-idx3-ubyte.gz\n",
            "Downloading http://yann.lecun.com/exdb/mnist/t10k-images-idx3-ubyte.gz to ./data/MNIST/raw/t10k-images-idx3-ubyte.gz\n"
          ]
        },
        {
          "output_type": "stream",
          "name": "stderr",
          "text": [
            "100%|██████████| 1648877/1648877 [00:00<00:00, 43855567.30it/s]\n"
          ]
        },
        {
          "output_type": "stream",
          "name": "stdout",
          "text": [
            "Extracting ./data/MNIST/raw/t10k-images-idx3-ubyte.gz to ./data/MNIST/raw\n",
            "\n",
            "Downloading http://yann.lecun.com/exdb/mnist/t10k-labels-idx1-ubyte.gz\n",
            "Downloading http://yann.lecun.com/exdb/mnist/t10k-labels-idx1-ubyte.gz to ./data/MNIST/raw/t10k-labels-idx1-ubyte.gz\n"
          ]
        },
        {
          "output_type": "stream",
          "name": "stderr",
          "text": [
            "100%|██████████| 4542/4542 [00:00<00:00, 14722201.52it/s]"
          ]
        },
        {
          "output_type": "stream",
          "name": "stdout",
          "text": [
            "Extracting ./data/MNIST/raw/t10k-labels-idx1-ubyte.gz to ./data/MNIST/raw\n",
            "\n"
          ]
        },
        {
          "output_type": "stream",
          "name": "stderr",
          "text": [
            "\n"
          ]
        },
        {
          "output_type": "stream",
          "name": "stdout",
          "text": [
            "Epoch 1, Batch 100, Loss: 2.225\n",
            "Epoch 1, Batch 200, Loss: 1.974\n",
            "Epoch 1, Batch 300, Loss: 1.521\n",
            "Epoch 1, Batch 400, Loss: 1.062\n",
            "Epoch 1, Batch 500, Loss: 0.805\n",
            "Epoch 1, Batch 600, Loss: 0.670\n",
            "Epoch 1, Batch 700, Loss: 0.587\n",
            "Epoch 1, Batch 800, Loss: 0.531\n",
            "Epoch 1, Batch 900, Loss: 0.486\n",
            "Epoch 2, Batch 100, Loss: 0.447\n",
            "Epoch 2, Batch 200, Loss: 0.432\n",
            "Epoch 2, Batch 300, Loss: 0.399\n",
            "Epoch 2, Batch 400, Loss: 0.400\n",
            "Epoch 2, Batch 500, Loss: 0.379\n",
            "Epoch 2, Batch 600, Loss: 0.397\n",
            "Epoch 2, Batch 700, Loss: 0.374\n",
            "Epoch 2, Batch 800, Loss: 0.361\n",
            "Epoch 2, Batch 900, Loss: 0.351\n",
            "Epoch 3, Batch 100, Loss: 0.352\n",
            "Epoch 3, Batch 200, Loss: 0.332\n",
            "Epoch 3, Batch 300, Loss: 0.330\n",
            "Epoch 3, Batch 400, Loss: 0.323\n",
            "Epoch 3, Batch 500, Loss: 0.332\n",
            "Epoch 3, Batch 600, Loss: 0.338\n",
            "Epoch 3, Batch 700, Loss: 0.309\n",
            "Epoch 3, Batch 800, Loss: 0.308\n",
            "Epoch 3, Batch 900, Loss: 0.336\n",
            "Epoch 4, Batch 100, Loss: 0.325\n",
            "Epoch 4, Batch 200, Loss: 0.295\n",
            "Epoch 4, Batch 300, Loss: 0.294\n",
            "Epoch 4, Batch 400, Loss: 0.294\n",
            "Epoch 4, Batch 500, Loss: 0.288\n",
            "Epoch 4, Batch 600, Loss: 0.314\n",
            "Epoch 4, Batch 700, Loss: 0.284\n",
            "Epoch 4, Batch 800, Loss: 0.274\n",
            "Epoch 4, Batch 900, Loss: 0.282\n",
            "Epoch 5, Batch 100, Loss: 0.244\n",
            "Epoch 5, Batch 200, Loss: 0.286\n",
            "Epoch 5, Batch 300, Loss: 0.289\n",
            "Epoch 5, Batch 400, Loss: 0.293\n",
            "Epoch 5, Batch 500, Loss: 0.272\n",
            "Epoch 5, Batch 600, Loss: 0.270\n",
            "Epoch 5, Batch 700, Loss: 0.260\n",
            "Epoch 5, Batch 800, Loss: 0.266\n",
            "Epoch 5, Batch 900, Loss: 0.255\n",
            "Finished Training\n",
            "Accuracy on the test set: 92.32%\n"
          ]
        }
      ],
      "source": [
        "import torch\n",
        "import torch.nn as nn\n",
        "import torch.optim as optim\n",
        "import torchvision.transforms as transforms\n",
        "from torch.utils.data import DataLoader\n",
        "from torchvision.datasets import MNIST\n",
        "\n",
        "# Define the data preprocessing\n",
        "transform = transforms.Compose([\n",
        "    transforms.ToTensor(),\n",
        "    transforms.Normalize((0.5,), (0.5,))\n",
        "])\n",
        "\n",
        "# Load the MNIST dataset\n",
        "trainset = MNIST(root='./data', train=True, download=True, transform=transform)\n",
        "testset = MNIST(root='./data', train=False, download=True, transform=transform)\n",
        "\n",
        "# Define the data loaders\n",
        "trainloader = DataLoader(trainset, batch_size=64, shuffle=True)\n",
        "testloader = DataLoader(testset, batch_size=64, shuffle=False)\n",
        "\n",
        "# Define the Feedforward Neural Network (FNN) architecture\n",
        "class FNN(nn.Module):\n",
        "    def __init__(self):\n",
        "        super(FNN, self).__init__()\n",
        "        self.fc1 = nn.Linear(28*28, 128)\n",
        "        self.fc2 = nn.Linear(128, 64)\n",
        "        self.fc3 = nn.Linear(64, 10)\n",
        "\n",
        "    def forward(self, x):\n",
        "        x = x.view(-1, 28*28)\n",
        "        x = torch.relu(self.fc1(x))\n",
        "        x = torch.relu(self.fc2(x))\n",
        "        x = self.fc3(x)\n",
        "        return x\n",
        "\n",
        "# Instantiate the FNN model\n",
        "model = FNN()\n",
        "\n",
        "# Define loss function and optimizer\n",
        "criterion = nn.CrossEntropyLoss()\n",
        "optimizer = optim.SGD(model.parameters(), lr=0.01)\n",
        "\n",
        "# Training loop\n",
        "for epoch in range(5):\n",
        "    running_loss = 0.0\n",
        "    for i, data in enumerate(trainloader, 0):\n",
        "        inputs, labels = data\n",
        "        optimizer.zero_grad()\n",
        "\n",
        "        outputs = model(inputs)\n",
        "        loss = criterion(outputs, labels)\n",
        "        loss.backward()\n",
        "        optimizer.step()\n",
        "\n",
        "        running_loss += loss.item()\n",
        "\n",
        "        if i % 100 == 99:\n",
        "            print(f\"Epoch {epoch + 1}, Batch {i + 1}, Loss: {running_loss / 100:.3f}\")  # Print loss per mini-batch\n",
        "            running_loss = 0.0\n",
        "\n",
        "print(\"Finished Training\")\n",
        "\n",
        "# Evaluation\n",
        "correct = 0\n",
        "total = 0\n",
        "with torch.no_grad():\n",
        "    for data in testloader:\n",
        "        images, labels = data\n",
        "        outputs = model(images)\n",
        "        _, predicted = torch.max(outputs.data, 1)\n",
        "        total += labels.size(0)\n",
        "        correct += (predicted == labels).sum().item()\n",
        "\n",
        "print(f\"Accuracy on the test set: {100 * correct / total:.2f}%\")\n"
      ]
    }
  ]
}